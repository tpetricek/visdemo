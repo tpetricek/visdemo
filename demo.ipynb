{
 "cells": [
  {
   "cell_type": "code",
   "execution_count": 16,
   "metadata": {
    "dotnet_interactive": {
     "language": "javascript"
    },
    "polyglot_notebook": {
     "kernelName": "javascript"
    }
   },
   "outputs": [],
   "source": [
    "vis = await import(\"https://unpkg.com/vis-network@9.1.6/standalone/esm/vis-network.min.js\")\n",
    "//console.log(vis.DataSet)\n",
    "\n",
    "// create an array with nodes\n",
    "var nodes = new vis.DataSet([\n",
    "  { id: 1, label: \"Node 1\" },\n",
    "  { id: 2, label: \"Node 2\" },\n",
    "  { id: 3, label: \"Node 3\" },\n",
    "  { id: 4, label: \"Node 4\" },\n",
    "  { id: 5, label: \"Node 5\" },\n",
    "]);\n",
    "\n",
    "// create an array with edges\n",
    "var edges = new vis.DataSet([\n",
    "  { from: 1, to: 3 },\n",
    "  { from: 1, to: 2 },\n",
    "  { from: 2, to: 4 },\n",
    "  { from: 2, to: 5 },\n",
    "  { from: 3, to: 3 },\n",
    "]);\n",
    "\n",
    "// create a network\n",
    "var container = document.getElementById(\"net\");\n",
    "var data = {\n",
    "  nodes: nodes,\n",
    "  edges: edges,\n",
    "};\n",
    "var options = {};\n",
    "var network = new vis.Network(container, data, options);"
   ]
  },
  {
   "cell_type": "code",
   "execution_count": 15,
   "metadata": {
    "dotnet_interactive": {
     "language": "fsharp"
    },
    "polyglot_notebook": {
     "kernelName": "fsharp"
    }
   },
   "outputs": [
    {
     "data": {
      "text/html": [
       "<div id='net' style='width:1000px;height:1000px'>Yo</div>"
      ]
     },
     "metadata": {},
     "output_type": "display_data"
    }
   ],
   "source": [
    "\"<div id='net' style='width:1000px;height:1000px'>Yo</div>\" |> HTML"
   ]
  }
 ],
 "metadata": {
  "kernelspec": {
   "display_name": ".NET (C#)",
   "language": "C#",
   "name": ".net-csharp"
  },
  "language_info": {
   "name": "polyglot-notebook"
  },
  "orig_nbformat": 4,
  "polyglot_notebook": {
   "kernelInfo": {
    "defaultKernelName": "csharp",
    "items": [
     {
      "aliases": [],
      "name": "csharp"
     }
    ]
   }
  }
 },
 "nbformat": 4,
 "nbformat_minor": 2
}
