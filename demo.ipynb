{
 "cells": [
  {
   "cell_type": "code",
   "execution_count": 6,
   "metadata": {
    "dotnet_interactive": {
     "language": "javascript"
    },
    "polyglot_notebook": {
     "kernelName": "javascript"
    }
   },
   "outputs": [],
   "source": [
    "vis = await import(\"https://unpkg.com/vis-network@9.1.6/standalone/esm/vis-network.min.js\")"
   ]
  },
  {
   "cell_type": "code",
   "execution_count": 19,
   "metadata": {
    "dotnet_interactive": {
     "language": "fsharp"
    },
    "polyglot_notebook": {
     "kernelName": "fsharp"
    }
   },
   "outputs": [],
   "source": [
    "let drawGraph () =\n",
    "  \"\"\"\n",
    "<div id='net' style='width:1000px;height:200px'>Yo</div>\n",
    "<script id='net-source'>\n",
    "// create an array with nodes\n",
    "var nodes = new vis.DataSet([\n",
    "  { id: 1, label: \"Node 1\" },\n",
    "  { id: 2, label: \"Node 2\" },\n",
    "  { id: 3, label: \"Node 3\" },\n",
    "  { id: 4, label: \"Node 4\" },\n",
    "  { id: 5, label: \"Node 5\" },\n",
    "]);\n",
    "\n",
    "// create an array with edges\n",
    "var edges = new vis.DataSet([\n",
    "  { from: 1, to: 3 },\n",
    "  { from: 1, to: 2 },\n",
    "  { from: 2, to: 4 },\n",
    "  { from: 2, to: 5 },\n",
    "  { from: 3, to: 3 },\n",
    "]);\n",
    "\n",
    "// create a network\n",
    "var container = document.getElementById(\"net\");\n",
    "var data = {\n",
    "  nodes: nodes,\n",
    "  edges: edges,\n",
    "};\n",
    "var options = {};\n",
    "var network = new vis.Network(container, data, options);\n",
    "</script>\"\"\""
   ]
  },
  {
   "cell_type": "code",
   "execution_count": 20,
   "metadata": {
    "dotnet_interactive": {
     "language": "fsharp"
    },
    "polyglot_notebook": {
     "kernelName": "fsharp"
    }
   },
   "outputs": [
    {
     "data": {
      "text/html": [
       "\r\n",
       "<div id='net' style='width:1000px;height:200px'>Yo</div>\r\n",
       "<script id='net-source'>\r\n",
       "// create an array with nodes\r\n",
       "var nodes = new vis.DataSet([\r\n",
       "  { id: 1, label: \"Node 1\" },\r\n",
       "  { id: 2, label: \"Node 2\" },\r\n",
       "  { id: 3, label: \"Node 3\" },\r\n",
       "  { id: 4, label: \"Node 4\" },\r\n",
       "  { id: 5, label: \"Node 5\" },\r\n",
       "]);\r\n",
       "\r\n",
       "// create an array with edges\r\n",
       "var edges = new vis.DataSet([\r\n",
       "  { from: 1, to: 3 },\r\n",
       "  { from: 1, to: 2 },\r\n",
       "  { from: 2, to: 4 },\r\n",
       "  { from: 2, to: 5 },\r\n",
       "  { from: 3, to: 3 },\r\n",
       "]);\r\n",
       "\r\n",
       "// create a network\r\n",
       "var container = document.getElementById(\"net\");\r\n",
       "var data = {\r\n",
       "  nodes: nodes,\r\n",
       "  edges: edges,\r\n",
       "};\r\n",
       "var options = {};\r\n",
       "var network = new vis.Network(container, data, options);\r\n",
       "</script>"
      ]
     },
     "metadata": {},
     "output_type": "display_data"
    }
   ],
   "source": [
    "drawGraph () |> HTML"
   ]
  }
 ],
 "metadata": {
  "kernelspec": {
   "display_name": ".NET (C#)",
   "language": "C#",
   "name": ".net-csharp"
  },
  "language_info": {
   "name": "polyglot-notebook"
  },
  "orig_nbformat": 4,
  "polyglot_notebook": {
   "kernelInfo": {
    "defaultKernelName": "csharp",
    "items": [
     {
      "aliases": [],
      "name": "csharp"
     }
    ]
   }
  }
 },
 "nbformat": 4,
 "nbformat_minor": 2
}
